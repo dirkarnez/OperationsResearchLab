{
 "cells": [
  {
   "cell_type": "code",
   "execution_count": 1,
   "metadata": {},
   "outputs": [
    {
     "name": "stdout",
     "output_type": "stream",
     "text": [
      "Collecting package metadata (current_repodata.json): done\n",
      "Solving environment: done\n",
      "\n",
      "## Package Plan ##\n",
      "\n",
      "  environment location: /opt/conda\n",
      "\n",
      "  added / updated specs:\n",
      "    - sympy\n",
      "\n",
      "\n",
      "The following packages will be downloaded:\n",
      "\n",
      "    package                    |            build\n",
      "    ---------------------------|-----------------\n",
      "    fastcache-1.1.0            |   py38h1e0a361_2          30 KB  conda-forge\n",
      "    gmp-6.2.0                  |       he1b5a44_3         811 KB  conda-forge\n",
      "    gmpy2-2.1.0b1              |   py38h4588c1f_1         213 KB  conda-forge\n",
      "    mpc-1.1.0                  |    h04dde30_1009         105 KB  conda-forge\n",
      "    mpfr-4.0.2                 |       he80fd80_1         648 KB  conda-forge\n",
      "    mpmath-1.1.0               |             py_0         432 KB  conda-forge\n",
      "    sympy-1.6.2                |   py38h32f6830_1        10.6 MB  conda-forge\n",
      "    ------------------------------------------------------------\n",
      "                                           Total:        12.8 MB\n",
      "\n",
      "The following NEW packages will be INSTALLED:\n",
      "\n",
      "  fastcache          conda-forge/linux-64::fastcache-1.1.0-py38h1e0a361_2\n",
      "  gmp                conda-forge/linux-64::gmp-6.2.0-he1b5a44_3\n",
      "  gmpy2              conda-forge/linux-64::gmpy2-2.1.0b1-py38h4588c1f_1\n",
      "  mpc                conda-forge/linux-64::mpc-1.1.0-h04dde30_1009\n",
      "  mpfr               conda-forge/linux-64::mpfr-4.0.2-he80fd80_1\n",
      "  mpmath             conda-forge/noarch::mpmath-1.1.0-py_0\n",
      "  sympy              conda-forge/linux-64::sympy-1.6.2-py38h32f6830_1\n",
      "\n",
      "\n",
      "\n",
      "Downloading and Extracting Packages\n",
      "mpc-1.1.0            | 105 KB    | ##################################### | 100% \n",
      "sympy-1.6.2          | 10.6 MB   | ##################################### | 100% \n",
      "mpmath-1.1.0         | 432 KB    | ##################################### | 100% \n",
      "gmp-6.2.0            | 811 KB    | ##################################### | 100% \n",
      "fastcache-1.1.0      | 30 KB     | ##################################### | 100% \n",
      "mpfr-4.0.2           | 648 KB    | ##################################### | 100% \n",
      "gmpy2-2.1.0b1        | 213 KB    | ##################################### | 100% \n",
      "Preparing transaction: done\n",
      "Verifying transaction: done\n",
      "Executing transaction: done\n"
     ]
    }
   ],
   "source": [
    "import sys\n",
    "!conda install --yes --prefix {sys.prefix} sympy"
   ]
  },
  {
   "cell_type": "code",
   "execution_count": 45,
   "metadata": {},
   "outputs": [
    {
     "name": "stdout",
     "output_type": "stream",
     "text": [
      "100 - 720/r**2\n",
      "6*sqrt(5)/5\n",
      "number of cases in each order: 80*sqrt(5)\n"
     ]
    }
   ],
   "source": [
    "# https://www.youtube.com/watch?v=T-i95r2y7S4\n",
    "#\n",
    "# A company wants to buy and store some wine.\n",
    "# They expect to sell 480 cases at a steady rate over the course of a year.\n",
    "# They plan to place several orders of the same size spread evenly throughout the year.\n",
    "# The ordering cost for each delivery is $100 and the storage costs are $3 per year for one case.\n",
    "#\n",
    "# Determine the order quantity that minimizes the cost.\n",
    "\n",
    "# r = number of orders\n",
    "# x = number of cases in each order\n",
    "# rx = 480\n",
    "# x = 480 / r\n",
    "# c = cost\n",
    "# c = 100r + 3(x / 2)\n",
    "# c = 100r + 3((480 / r) / 2)\n",
    "# c = 100r + 3((480 / 2r))\n",
    "# c = 100r + (720 / r)\n",
    "\n",
    "from sympy import *\n",
    "c, r = symbols('c r')\n",
    "d = diff((100 * r) + (720 / r), r)\n",
    "print(d)\n",
    "\n",
    "for r in solveset(Eq(d, 0), r):\n",
    "    if r > 0: # only take the positive\n",
    "        print(r)\n",
    "        # since x = 480 / r\n",
    "        print(\"number of cases in each order:\", 480 / r) # 178.8854382\n",
    "\n"
   ]
  }
 ],
 "metadata": {
  "kernelspec": {
   "display_name": "Python 3",
   "language": "python",
   "name": "python3"
  },
  "language_info": {
   "codemirror_mode": {
    "name": "ipython",
    "version": 3
   },
   "file_extension": ".py",
   "mimetype": "text/x-python",
   "name": "python",
   "nbconvert_exporter": "python",
   "pygments_lexer": "ipython3",
   "version": "3.8.6"
  }
 },
 "nbformat": 4,
 "nbformat_minor": 4
}
