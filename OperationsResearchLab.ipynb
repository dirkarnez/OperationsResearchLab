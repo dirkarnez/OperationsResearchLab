{
 "cells": [
  {
   "cell_type": "code",
   "execution_count": 2,
   "metadata": {},
   "outputs": [
    {
     "name": "stdout",
     "output_type": "stream",
     "text": [
      "Collecting package metadata (current_repodata.json): done\n",
      "Solving environment: done\n",
      "\n",
      "\n",
      "==> WARNING: A newer version of conda exists. <==\n",
      "  current version: 4.8.2\n",
      "  latest version: 4.8.3\n",
      "\n",
      "Please update conda by running\n",
      "\n",
      "    $ conda update -n base conda\n",
      "\n",
      "\n",
      "\n",
      "## Package Plan ##\n",
      "\n",
      "  environment location: /opt/conda\n",
      "\n",
      "  added / updated specs:\n",
      "    - scipy\n",
      "\n",
      "\n",
      "The following packages will be downloaded:\n",
      "\n",
      "    package                    |            build\n",
      "    ---------------------------|-----------------\n",
      "    libblas-3.8.0              |      14_openblas          10 KB  conda-forge\n",
      "    libcblas-3.8.0             |      14_openblas          10 KB  conda-forge\n",
      "    libgfortran-ng-7.3.0       |       hdf63c60_5         1.7 MB  conda-forge\n",
      "    liblapack-3.8.0            |      14_openblas          10 KB  conda-forge\n",
      "    libopenblas-0.3.7          |       h5ec1e0e_6         7.6 MB  conda-forge\n",
      "    numpy-1.18.1               |   py37h8960a57_1         5.2 MB  conda-forge\n",
      "    openssl-1.1.1f             |       h516909a_0         2.1 MB  conda-forge\n",
      "    scipy-1.4.1                |   py37ha3d9a3c_2        18.9 MB  conda-forge\n",
      "    ------------------------------------------------------------\n",
      "                                           Total:        35.6 MB\n",
      "\n",
      "The following NEW packages will be INSTALLED:\n",
      "\n",
      "  libblas            conda-forge/linux-64::libblas-3.8.0-14_openblas\n",
      "  libcblas           conda-forge/linux-64::libcblas-3.8.0-14_openblas\n",
      "  libgfortran-ng     conda-forge/linux-64::libgfortran-ng-7.3.0-hdf63c60_5\n",
      "  liblapack          conda-forge/linux-64::liblapack-3.8.0-14_openblas\n",
      "  libopenblas        conda-forge/linux-64::libopenblas-0.3.7-h5ec1e0e_6\n",
      "  numpy              conda-forge/linux-64::numpy-1.18.1-py37h8960a57_1\n",
      "  scipy              conda-forge/linux-64::scipy-1.4.1-py37ha3d9a3c_2\n",
      "\n",
      "The following packages will be UPDATED:\n",
      "\n",
      "  openssl                                 1.1.1d-h516909a_0 --> 1.1.1f-h516909a_0\n",
      "\n",
      "\n",
      "\n",
      "Downloading and Extracting Packages\n",
      "libblas-3.8.0        | 10 KB     | ##################################### | 100% \n",
      "libopenblas-0.3.7    | 7.6 MB    | ##################################### | 100% \n",
      "openssl-1.1.1f       | 2.1 MB    | ##################################### | 100% \n",
      "libcblas-3.8.0       | 10 KB     | ##################################### | 100% \n",
      "liblapack-3.8.0      | 10 KB     | ##################################### | 100% \n",
      "scipy-1.4.1          | 18.9 MB   | ##################################### | 100% \n",
      "numpy-1.18.1         | 5.2 MB    | ##################################### | 100% \n",
      "libgfortran-ng-7.3.0 | 1.7 MB    | ##################################### | 100% \n",
      "Preparing transaction: done\n",
      "Verifying transaction: done\n",
      "Executing transaction: done\n"
     ]
    }
   ],
   "source": [
    "import sys\n",
    "!conda install --yes --prefix {sys.prefix} scipy"
   ]
  },
  {
   "cell_type": "code",
   "execution_count": 7,
   "metadata": {},
   "outputs": [
    {
     "name": "stdout",
     "output_type": "stream",
     "text": [
      "[1 0 2]\n",
      "5\n"
     ]
    }
   ],
   "source": [
    "import numpy as np\n",
    "from scipy.optimize import linear_sum_assignment\n",
    "\n",
    "cost = np.array([[4, 1, 3], [2, 0, 5], [3, 2, 2]])\n",
    "row_ind, col_ind = linear_sum_assignment(cost)\n",
    "print(col_ind)\n",
    "print(cost[row_ind, col_ind].sum())"
   ]
  },
  {
   "cell_type": "code",
   "execution_count": null,
   "metadata": {},
   "outputs": [],
   "source": []
  }
 ],
 "metadata": {
  "kernelspec": {
   "display_name": "Python 3",
   "language": "python",
   "name": "python3"
  },
  "language_info": {
   "codemirror_mode": {
    "name": "ipython",
    "version": 3
   },
   "file_extension": ".py",
   "mimetype": "text/x-python",
   "name": "python",
   "nbconvert_exporter": "python",
   "pygments_lexer": "ipython3",
   "version": "3.7.6"
  }
 },
 "nbformat": 4,
 "nbformat_minor": 4
}
