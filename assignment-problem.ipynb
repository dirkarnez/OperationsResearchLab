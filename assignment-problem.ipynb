{
 "cells": [
  {
   "cell_type": "code",
   "execution_count": 2,
   "metadata": {},
   "outputs": [
    {
     "name": "stdout",
     "output_type": "stream",
     "text": [
      "Collecting package metadata (current_repodata.json): done\n",
      "Solving environment: done\n",
      "\n",
      "## Package Plan ##\n",
      "\n",
      "  environment location: /opt/conda\n",
      "\n",
      "  added / updated specs:\n",
      "    - scipy\n",
      "\n",
      "\n",
      "The following packages will be downloaded:\n",
      "\n",
      "    package                    |            build\n",
      "    ---------------------------|-----------------\n",
      "    libblas-3.9.0              |       2_openblas          11 KB  conda-forge\n",
      "    libcblas-3.9.0             |       2_openblas          11 KB  conda-forge\n",
      "    libgfortran-ng-9.3.0       |      he4bcb1c_17          22 KB  conda-forge\n",
      "    libgfortran5-9.3.0         |      he4bcb1c_17         2.0 MB  conda-forge\n",
      "    liblapack-3.9.0            |       2_openblas          11 KB  conda-forge\n",
      "    libopenblas-0.3.12         |pthreads_h4812303_1         8.9 MB  conda-forge\n",
      "    numpy-1.19.2               |   py38hf89b668_1         5.3 MB  conda-forge\n",
      "    scipy-1.5.2                |   py38hd9480d8_2        19.2 MB  conda-forge\n",
      "    ------------------------------------------------------------\n",
      "                                           Total:        35.4 MB\n",
      "\n",
      "The following NEW packages will be INSTALLED:\n",
      "\n",
      "  libblas            conda-forge/linux-64::libblas-3.9.0-2_openblas\n",
      "  libcblas           conda-forge/linux-64::libcblas-3.9.0-2_openblas\n",
      "  libgfortran-ng     conda-forge/linux-64::libgfortran-ng-9.3.0-he4bcb1c_17\n",
      "  libgfortran5       conda-forge/linux-64::libgfortran5-9.3.0-he4bcb1c_17\n",
      "  liblapack          conda-forge/linux-64::liblapack-3.9.0-2_openblas\n",
      "  libopenblas        conda-forge/linux-64::libopenblas-0.3.12-pthreads_h4812303_1\n",
      "  numpy              conda-forge/linux-64::numpy-1.19.2-py38hf89b668_1\n",
      "  scipy              conda-forge/linux-64::scipy-1.5.2-py38hd9480d8_2\n",
      "\n",
      "\n",
      "\n",
      "Downloading and Extracting Packages\n",
      "scipy-1.5.2          | 19.2 MB   | ##################################### | 100% \n",
      "libgfortran5-9.3.0   | 2.0 MB    | ##################################### | 100% \n",
      "libcblas-3.9.0       | 11 KB     | ##################################### | 100% \n",
      "liblapack-3.9.0      | 11 KB     | ##################################### | 100% \n",
      "libgfortran-ng-9.3.0 | 22 KB     | ##################################### | 100% \n",
      "numpy-1.19.2         | 5.3 MB    | ##################################### | 100% \n",
      "libblas-3.9.0        | 11 KB     | ##################################### | 100% \n",
      "libopenblas-0.3.12   | 8.9 MB    | ##################################### | 100% \n",
      "Preparing transaction: done\n",
      "Verifying transaction: done\n",
      "Executing transaction: done\n"
     ]
    }
   ],
   "source": [
    "import sys\n",
    "!conda install --yes --prefix {sys.prefix} scipy"
   ]
  },
  {
   "cell_type": "code",
   "execution_count": 3,
   "metadata": {},
   "outputs": [
    {
     "name": "stdout",
     "output_type": "stream",
     "text": [
      "[1 0 2]\n",
      "5\n"
     ]
    }
   ],
   "source": [
    "import numpy as np\n",
    "from scipy.optimize import linear_sum_assignment\n",
    "\n",
    "cost = np.array([[4, 1, 3], [2, 0, 5], [3, 2, 2]])\n",
    "row_ind, col_ind = linear_sum_assignment(cost)\n",
    "print(col_ind)\n",
    "print(cost[row_ind, col_ind].sum())"
   ]
  },
  {
   "cell_type": "code",
   "execution_count": null,
   "metadata": {},
   "outputs": [],
   "source": []
  }
 ],
 "metadata": {
  "kernelspec": {
   "display_name": "Python 3",
   "language": "python",
   "name": "python3"
  },
  "language_info": {
   "codemirror_mode": {
    "name": "ipython",
    "version": 3
   },
   "file_extension": ".py",
   "mimetype": "text/x-python",
   "name": "python",
   "nbconvert_exporter": "python",
   "pygments_lexer": "ipython3",
   "version": "3.8.6"
  }
 },
 "nbformat": 4,
 "nbformat_minor": 4
}
